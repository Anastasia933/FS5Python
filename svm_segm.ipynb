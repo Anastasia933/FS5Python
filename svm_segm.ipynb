{
 "cells": [
  {
   "cell_type": "markdown",
   "metadata": {},
   "source": [
    "# [Bonus Tasks](svm_segm.ipynb)"
   ]
  },
  {
   "cell_type": "code",
   "execution_count": 34,
   "metadata": {},
   "outputs": [],
   "source": [
    "import numpy as np\n",
    "import matplotlib.pyplot as plt\n",
    "\n",
    "import scipy.ndimage as ndi\n",
    "import skimage.morphology as morph\n",
    "import skimage.util\n",
    "from sklearn.pipeline import make_pipeline\n",
    "from skimage.util import view_as_blocks\n",
    "from sklearn.preprocessing import StandardScaler\n",
    "from sklearn.svm import SVC"
   ]
  },
  {
   "cell_type": "code",
   "execution_count": 35,
   "metadata": {},
   "outputs": [],
   "source": [
    "def blend_result(img, seg, border_radius=1, interior_opacity=1, interior_opacity_decay=0.9, color=(0,1,0)):\n",
    "    img  = np.dstack([img] * 3).copy()\n",
    "    img -= img.min()\n",
    "    img /= img.max()\n",
    "    selem  = morph.disk(border_radius)\n",
    "    seg_bd = np.logical_xor(morph.binary_dilation(seg, selem), morph.binary_erosion(seg, selem))\n",
    "    mask_decay = ndi.distance_transform_edt(seg)\n",
    "    for i in range(3):\n",
    "        opacity = interior_opacity / pow(1 + mask_decay[seg], interior_opacity_decay)\n",
    "        img[:,:,i][seg] = color[i] * opacity + (1 - opacity) * img[:,:,i][seg]\n",
    "        img[:,:,i][seg_bd] = color[i]\n",
    "    return img"
   ]
  },
  {
   "cell_type": "code",
   "execution_count": 36,
   "metadata": {},
   "outputs": [],
   "source": [
    "patch_size = 32"
   ]
  },
  {
   "cell_type": "markdown",
   "metadata": {},
   "source": [
    "---\n",
    "\n",
    "**[Task 1.1.]()** Implement `create_data_matrix`:"
   ]
  },
  {
   "cell_type": "code",
   "execution_count": 37,
   "metadata": {},
   "outputs": [],
   "source": [
    "def create_data_matrix(img):\n",
    "    patches = view_as_blocks(img, block_shape = (patch_size, patch_size))\n",
    "    matrix_resh = patches.reshape(-1, patch_size, patch_size)\n",
    "    \n",
    "    return matrix_resh\n"
   ]
  },
  {
   "cell_type": "markdown",
   "metadata": {},
   "source": [
    "**[Task 1.2.]()** Implement `create_gt_labels_vector`:"
   ]
  },
  {
   "cell_type": "code",
   "execution_count": 38,
   "metadata": {},
   "outputs": [],
   "source": [
    "def create_gt_labels(gt, patch_size):\n",
    "    gt.astype(bool)\n",
    "    \n",
    "    patches_gt = view_as_blocks(gt, block_shape = (patch_size, patch_size))\n",
    "    a, b = patches_gt.shape[:2]\n",
    "    vec_reshaped = patches_gt.reshape(a * b, -1)\n",
    "    fg = vec_reshaped.mean(axis = 1)\n",
    "    labs = np.where(fg > 0.5,1,np.where(fg == 0, -1, 0))"
   ]
  },
  {
   "cell_type": "markdown",
   "metadata": {},
   "source": [
    "**[Task 1.3.]()** Create the SVM classifier:"
   ]
  },
  {
   "cell_type": "code",
   "execution_count": 39,
   "metadata": {},
   "outputs": [],
   "source": [
    "clf = make_pipeline(StandardScaler(), SVC(class_weight='balanced', gamma=0.1))"
   ]
  },
  {
   "cell_type": "markdown",
   "metadata": {},
   "source": [
    "**[Task 1.3 (a).]()** Create the data matrices for the images `dna-33` and `dna-44`:"
   ]
  },
  {
   "cell_type": "code",
   "execution_count": 40,
   "metadata": {},
   "outputs": [],
   "source": [
    "dna_33 = plt.imread('data/NIH3T3/im/dna-33.png')\n",
    "dna_44 = plt.imread('data/NIH3T3/im/dna-44.png')\n",
    "\n",
    "gt_33 = plt.imread('data/NIH3T3/gt/33.png')\n",
    "gt_44 = plt.imread('data/NIH3T3/gt/44.png')\n",
    "\n",
    "dm_33 = create_data_matrix(dna_33)\n",
    "dm_44 = create_data_matrix(dna_44)\n",
    "gtlab_33 = create_gt_labels(gt_33, patch_size_xy)\n",
    "gtlab_44 = create_gt_labels(gt_44, patch_size_xy)"
   ]
  },
  {
   "cell_type": "markdown",
   "metadata": {},
   "source": [
    "**[Task 1.3 (b).]()** Create the corresponding ground truth label vectors:"
   ]
  },
  {
   "cell_type": "code",
   "execution_count": 42,
   "metadata": {},
   "outputs": [
    {
     "name": "stdout",
     "output_type": "stream",
     "text": [
      "[[[0.15686275 0.15686275 0.15294118 ... 0.13725491 0.13333334 0.13725491]\n",
      "  [0.16078432 0.15294118 0.14509805 ... 0.14509805 0.13725491 0.13725491]\n",
      "  [0.14901961 0.14901961 0.14509805 ... 0.13725491 0.13333334 0.13725491]\n",
      "  ...\n",
      "  [0.10980392 0.10980392 0.10588235 ... 0.09019608 0.09411765 0.09411765]\n",
      "  [0.10196079 0.10196079 0.10588235 ... 0.09019608 0.09019608 0.09019608]\n",
      "  [0.10980392 0.10196079 0.10588235 ... 0.09019608 0.09019608 0.09019608]]\n",
      "\n",
      " [[0.13725491 0.13725491 0.12941177 ... 0.08235294 0.09411765 0.09019608]\n",
      "  [0.13333334 0.13333334 0.13333334 ... 0.08627451 0.08627451 0.08627451]\n",
      "  [0.13333334 0.12941177 0.1254902  ... 0.09019608 0.09019608 0.08627451]\n",
      "  ...\n",
      "  [0.09019608 0.09019608 0.08627451 ... 0.08627451 0.09019608 0.08235294]\n",
      "  [0.09019608 0.09019608 0.09019608 ... 0.09019608 0.08627451 0.08627451]\n",
      "  [0.09411765 0.09019608 0.09019608 ... 0.09019608 0.09411765 0.08627451]]\n",
      "\n",
      " [[0.08627451 0.08235294 0.08627451 ... 0.08627451 0.07843138 0.08627451]\n",
      "  [0.09019608 0.09019608 0.08627451 ... 0.08627451 0.08235294 0.08235294]\n",
      "  [0.08235294 0.09019608 0.08627451 ... 0.08627451 0.08235294 0.08235294]\n",
      "  ...\n",
      "  [0.08627451 0.08627451 0.08627451 ... 0.10196079 0.10196079 0.09803922]\n",
      "  [0.08627451 0.09019608 0.09019608 ... 0.10196079 0.10196079 0.10196079]\n",
      "  [0.09019608 0.09019608 0.09019608 ... 0.10588235 0.10196079 0.10588235]]\n",
      "\n",
      " ...\n",
      "\n",
      " [[0.41960785 0.41960785 0.41960785 ... 0.22352941 0.21568628 0.21176471]\n",
      "  [0.39215687 0.4117647  0.39215687 ... 0.21960784 0.21960784 0.21960784]\n",
      "  [0.3882353  0.39215687 0.38431373 ... 0.22352941 0.21568628 0.21176471]\n",
      "  ...\n",
      "  [0.20784314 0.21176471 0.21176471 ... 0.2        0.20784314 0.20392157]\n",
      "  [0.20784314 0.20784314 0.20784314 ... 0.2        0.19607843 0.2       ]\n",
      "  [0.21176471 0.20784314 0.21176471 ... 0.2        0.20392157 0.2       ]]\n",
      "\n",
      " [[0.21176471 0.21568628 0.21176471 ... 0.19607843 0.20392157 0.19607843]\n",
      "  [0.21176471 0.21568628 0.20784314 ... 0.19607843 0.2        0.19215687]\n",
      "  [0.20392157 0.21176471 0.20784314 ... 0.20392157 0.2        0.2       ]\n",
      "  ...\n",
      "  [0.19607843 0.18431373 0.19215687 ... 0.18431373 0.19607843 0.1882353 ]\n",
      "  [0.20392157 0.2        0.19607843 ... 0.19215687 0.19607843 0.19215687]\n",
      "  [0.19215687 0.19607843 0.2        ... 0.19607843 0.19607843 0.19215687]]\n",
      "\n",
      " [[0.20392157 0.2        0.20392157 ... 0.19215687 0.18431373 0.19607843]\n",
      "  [0.19607843 0.20392157 0.2        ... 0.19607843 0.2        0.19215687]\n",
      "  [0.20392157 0.2        0.19607843 ... 0.19607843 0.19607843 0.19607843]\n",
      "  ...\n",
      "  [0.19215687 0.19607843 0.2        ... 0.19607843 0.20392157 0.20392157]\n",
      "  [0.19215687 0.19215687 0.18431373 ... 0.2        0.20392157 0.19607843]\n",
      "  [0.19215687 0.19215687 0.1882353  ... 0.19215687 0.19215687 0.19215687]]]\n"
     ]
    }
   ],
   "source": [
    "print(dm_33)"
   ]
  },
  {
   "cell_type": "markdown",
   "metadata": {},
   "source": [
    "**[Task 1.3 (c).]()** Create the *combined* data matrices and ground truth label vectors:"
   ]
  },
  {
   "cell_type": "code",
   "execution_count": null,
   "metadata": {},
   "outputs": [],
   "source": []
  },
  {
   "cell_type": "code",
   "execution_count": null,
   "metadata": {},
   "outputs": [],
   "source": []
  },
  {
   "cell_type": "markdown",
   "metadata": {},
   "source": [
    "**[Task 1.3 (d).]()** Train the classifier using the data matrix and label vectors from above:"
   ]
  },
  {
   "cell_type": "code",
   "execution_count": null,
   "metadata": {},
   "outputs": [],
   "source": []
  },
  {
   "cell_type": "markdown",
   "metadata": {},
   "source": [
    "**[Task 1.4.]()** Implement the function `predict_image`:"
   ]
  },
  {
   "cell_type": "code",
   "execution_count": null,
   "metadata": {},
   "outputs": [],
   "source": []
  },
  {
   "cell_type": "markdown",
   "metadata": {},
   "source": [
    "Test your implementation:"
   ]
  },
  {
   "cell_type": "code",
   "execution_count": 41,
   "metadata": {},
   "outputs": [
    {
     "ename": "NameError",
     "evalue": "name 'predict_image' is not defined",
     "output_type": "error",
     "traceback": [
      "\u001b[0;31m---------------------------------------------------------------------------\u001b[0m",
      "\u001b[0;31mNameError\u001b[0m                                 Traceback (most recent call last)",
      "Cell \u001b[0;32mIn[41], line 2\u001b[0m\n\u001b[1;32m      1\u001b[0m img \u001b[38;5;241m=\u001b[39m plt\u001b[38;5;241m.\u001b[39mimread(\u001b[38;5;124mf\u001b[39m\u001b[38;5;124m'\u001b[39m\u001b[38;5;124mdata/NIH3T3/im/dna-0.png\u001b[39m\u001b[38;5;124m'\u001b[39m)\n\u001b[0;32m----> 2\u001b[0m seg \u001b[38;5;241m=\u001b[39m \u001b[43mpredict_image\u001b[49m(img)\n\u001b[1;32m      4\u001b[0m plt\u001b[38;5;241m.\u001b[39mfigure()\n\u001b[1;32m      5\u001b[0m plt\u001b[38;5;241m.\u001b[39mimshow(blend_result(img, seg))\n",
      "\u001b[0;31mNameError\u001b[0m: name 'predict_image' is not defined"
     ]
    }
   ],
   "source": [
    "img = plt.imread(f'data/NIH3T3/im/dna-0.png')\n",
    "seg = predict_image(img)\n",
    "\n",
    "plt.figure()\n",
    "plt.imshow(blend_result(img, seg))"
   ]
  },
  {
   "cell_type": "markdown",
   "metadata": {},
   "source": [
    "**[Task 1.5.]()** Perform batch processing:"
   ]
  },
  {
   "cell_type": "code",
   "execution_count": null,
   "metadata": {},
   "outputs": [],
   "source": []
  }
 ],
 "metadata": {
  "kernelspec": {
   "display_name": "Python 3",
   "language": "python",
   "name": "python3"
  },
  "language_info": {
   "codemirror_mode": {
    "name": "ipython",
    "version": 3
   },
   "file_extension": ".py",
   "mimetype": "text/x-python",
   "name": "python",
   "nbconvert_exporter": "python",
   "pygments_lexer": "ipython3",
   "version": "3.12.7"
  }
 },
 "nbformat": 4,
 "nbformat_minor": 4
}
