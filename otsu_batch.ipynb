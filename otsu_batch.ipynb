{
 "cells": [
  {
   "cell_type": "markdown",
   "metadata": {},
   "source": [
    "# [Lab Session 2](otsu.ipynb)"
   ]
  },
  {
   "cell_type": "code",
   "execution_count": 1,
   "metadata": {},
   "outputs": [],
   "source": [
    "import numpy as np\n",
    "import matplotlib.pyplot as plt"
   ]
  },
  {
   "cell_type": "markdown",
   "metadata": {},
   "source": [
    "**[Task 2.1.]()** Implement Otsu thresholding as a re-usable function:"
   ]
  },
  {
   "cell_type": "code",
   "execution_count": null,
   "metadata": {},
   "outputs": [],
   "source": [
    "def otsu_thresholding(imgf):\n",
    "    img8 = (imgf * 255).round().astype(np.uint8)\n",
    "    \n",
    "    # Create empty array\n",
    "    h = np.zeros(256)\n",
    "\n",
    "    # Count all instances  \n",
    "    for i in range (256):\n",
    "        h[i] = np.sum(img8 == i)\n",
    "\n",
    "    # Initialize variables for tracking minimum cost and best threshold\n",
    "\n",
    "    min_cost = float('inf')  # Use infinity for initial cost to ensure we find the minimum\n",
    "    best_T = 0\n",
    "\n",
    "    for T in range(1, 256):  # Loop over all possible threshold values (from 1 to 255)\n",
    "        # Split histogram into two parts\n",
    "        h1 = h[0:T]  # Intensities 0 to T-1\n",
    "        h2 = h[T:256]  # Intensities T to 255\n",
    "\n",
    "        # For h1\n",
    "        total_no_pixelsh1 = np.sum(h1)\n",
    "        if total_no_pixelsh1 == 0:\n",
    "            continue  # Skip if there are no pixels in this class\n",
    "\n",
    "        total_no_pixels_reziprokh1 = 1 / total_no_pixelsh1\n",
    "\n",
    "        # Mean intensity h1\n",
    "        m1 = np.sum(np.arange(T) * h1) * total_no_pixels_reziprokh1\n",
    "\n",
    "        # Mean intensity variance h1\n",
    "        miv1 = np.sum(((np.arange(T) - m1) ** 2) * h1) * total_no_pixels_reziprokh1\n",
    "\n",
    "        # For h2\n",
    "        total_no_pixelsh2 = np.sum(h2)\n",
    "        if total_no_pixelsh2 == 0:\n",
    "            continue  # Skip if there are no pixels in this class\n",
    "\n",
    "        total_no_pixels_reziprokh2 = 1 / total_no_pixelsh2\n",
    "\n",
    "        # Mean intensity h2\n",
    "        m2 = np.sum((np.arange(T, 256) * h2)) * total_no_pixels_reziprokh2\n",
    "\n",
    "        # Mean intensity variance h2\n",
    "        miv2 = np.sum(((np.arange(T, 256) - m2) ** 2) * h2) * total_no_pixels_reziprokh2\n",
    "\n",
    "        # Calculate the cost function (within-class variance)\n",
    "        cost = (total_no_pixelsh1 * miv1) + (total_no_pixelsh2 * miv2)\n",
    "\n",
    "        # Update the minimum cost and the best threshold\n",
    "        if cost < min_cost:\n",
    "            min_cost = cost\n",
    "            best_T = T\n",
    "\n",
    "    return best_T\n"
   ]
  },
  {
   "cell_type": "markdown",
   "metadata": {},
   "source": [
    "**[Task 2.2.]()** Implement a re-usable function to compute the Dice coefficient:"
   ]
  },
  {
   "cell_type": "code",
   "execution_count": null,
   "metadata": {},
   "outputs": [],
   "source": [
    "def compute_dice(bin1, bin2):\n",
    "    assert bin1.dtype == np.bool\n",
    "    assert bin2.dtype == np.bool\n",
    "    \n",
    "    ...\n",
    "    \n",
    "    return dice"
   ]
  },
  {
   "cell_type": "markdown",
   "metadata": {},
   "source": [
    "**[Task 2.3.]()** Test your implementations from above:"
   ]
  },
  {
   "cell_type": "code",
   "execution_count": null,
   "metadata": {},
   "outputs": [],
   "source": []
  },
  {
   "cell_type": "markdown",
   "metadata": {},
   "source": [
    "The result should be the same as in your [otsu.ipynb](otsu.ipynb) notebook."
   ]
  },
  {
   "cell_type": "markdown",
   "metadata": {},
   "source": [
    "**[Task 2.4.]()** Perform batch processing:"
   ]
  },
  {
   "cell_type": "code",
   "execution_count": null,
   "metadata": {},
   "outputs": [],
   "source": []
  }
 ],
 "metadata": {
  "kernelspec": {
   "display_name": "Python 3",
   "language": "python",
   "name": "python3"
  },
  "language_info": {
   "codemirror_mode": {
    "name": "ipython",
    "version": 3
   },
   "file_extension": ".py",
   "mimetype": "text/x-python",
   "name": "python",
   "nbconvert_exporter": "python",
   "pygments_lexer": "ipython3",
   "version": "3.12.7"
  }
 },
 "nbformat": 4,
 "nbformat_minor": 4
}
